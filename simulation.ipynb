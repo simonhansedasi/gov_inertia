{
 "cells": [
  {
   "cell_type": "code",
   "execution_count": 1,
   "id": "947ce875-b8aa-47f6-9509-0713c4f7d44d",
   "metadata": {},
   "outputs": [],
   "source": [
    "import gov_inertia as gi\n",
    "import numpy as np"
   ]
  },
  {
   "cell_type": "code",
   "execution_count": 2,
   "id": "cd06d32b-1f01-4533-b371-9dfaa322de1d",
   "metadata": {},
   "outputs": [],
   "source": [
    "parameters = gi.initial_conditions"
   ]
  },
  {
   "cell_type": "code",
   "execution_count": 3,
   "id": "1cb12be9-4c64-4b6f-b8eb-da66fc8986ab",
   "metadata": {},
   "outputs": [
    {
     "data": {
      "text/plain": [
       "{'N': 1000,\n",
       " 'm': 0.01,\n",
       " 'k': 50,\n",
       " 'G': 1,\n",
       " 'H_0': 3,\n",
       " 'H': 0,\n",
       " 'rho': 2.3,\n",
       " 'theta': 1.3,\n",
       " 'F': 0.2,\n",
       " 'alpha': 0.1,\n",
       " 'beta': 0.1,\n",
       " 'gamma': 0.1,\n",
       " 'delta': 5,\n",
       " 'mu_0': 0,\n",
       " 'sigma': 1,\n",
       " 'tau': 0.1,\n",
       " 'lambda': 0.4,\n",
       " 'psi': 0.3,\n",
       " 'epsilon': 1,\n",
       " 'zeta': 0.0001,\n",
       " 'eta': 0.7}"
      ]
     },
     "execution_count": 3,
     "metadata": {},
     "output_type": "execute_result"
    }
   ],
   "source": [
    "parameters"
   ]
  },
  {
   "cell_type": "markdown",
   "id": "a6436eb4-4c80-4d36-ad4f-d4be6fe216e2",
   "metadata": {},
   "source": [
    "Let's walk through the simulation and define functions to do it.\n",
    "\n",
    "First, how many interactions does our population have?"
   ]
  },
  {
   "cell_type": "code",
   "execution_count": 4,
   "id": "8a35fa6d-dc8f-42bd-9ce4-1b9bab17d53c",
   "metadata": {},
   "outputs": [
    {
     "name": "stdout",
     "output_type": "stream",
     "text": [
      "500.0\n"
     ]
    }
   ],
   "source": [
    "def calculate_interactions(parameters):\n",
    "    return parameters['m'] * parameters['k'] * parameters['N']\n",
    "I = calculate_interactions(parameters)\n",
    "print(I)"
   ]
  },
  {
   "cell_type": "markdown",
   "id": "c45a11ad-b176-40e2-8048-b2065b030fbb",
   "metadata": {},
   "source": [
    "Next, how many interactions must be enforced?"
   ]
  },
  {
   "cell_type": "code",
   "execution_count": 5,
   "id": "192dfe62-0ee9-4f65-8650-32f299c8c023",
   "metadata": {},
   "outputs": [
    {
     "name": "stdout",
     "output_type": "stream",
     "text": [
      "100.0\n"
     ]
    }
   ],
   "source": [
    "def calculate_enforced_interactions(parameters, I):\n",
    "    return I * parameters['F']\n",
    "I_E = calculate_enforced_interactions(parameters, I)\n",
    "print(I_E)"
   ]
  },
  {
   "cell_type": "markdown",
   "id": "1b736b03-4c4b-4874-8bb4-96d92df638b7",
   "metadata": {},
   "source": [
    "Next, what is our processing capacity?"
   ]
  },
  {
   "cell_type": "code",
   "execution_count": 6,
   "id": "bf0fe41c-a605-4a20-a3c8-ce0776184154",
   "metadata": {},
   "outputs": [
    {
     "name": "stdout",
     "output_type": "stream",
     "text": [
      "3.7099999999999995\n"
     ]
    }
   ],
   "source": [
    "def calculate_information_capacity(parameters):\n",
    "    eta = parameters['eta']\n",
    "    G = parameters['G']\n",
    "    H = parameters['H_0'] + (parameters['rho'] * G**parameters['theta'])\n",
    "    parameters['H'] = H\n",
    "    return eta * G * H\n",
    "B = calculate_information_capacity(parameters)\n",
    "print(B)"
   ]
  },
  {
   "cell_type": "markdown",
   "id": "753681b6-6312-470c-a6fb-cc0b39e6f09b",
   "metadata": {},
   "source": [
    "Okay, that's not gonna cut it. We need to scale up our government until we can enforce our laws"
   ]
  },
  {
   "cell_type": "code",
   "execution_count": 7,
   "id": "beb8996b-061b-4574-89f8-58f4b5f38dd7",
   "metadata": {},
   "outputs": [
    {
     "name": "stdout",
     "output_type": "stream",
     "text": [
      "2 8.663264301386615\n",
      "3 12.593685275179775\n",
      "4 16.944592411895663\n",
      "5 21.63755086196677\n",
      "6 26.62242405985393\n"
     ]
    }
   ],
   "source": [
    "while B < I_E:\n",
    "    parameters['G'] += 1\n",
    "    B = calculate_information_capacity(parameters)\n",
    "    print(parameters['G'], parameters['H'])"
   ]
  },
  {
   "cell_type": "markdown",
   "id": "b96041c8-491c-4781-b33b-e3656ef31fb3",
   "metadata": {},
   "source": [
    "Now, what is our bureaucratic latency?"
   ]
  },
  {
   "cell_type": "code",
   "execution_count": 8,
   "id": "5db86598-d60e-4687-a786-5f6ae0c5265b",
   "metadata": {},
   "outputs": [
    {
     "name": "stdout",
     "output_type": "stream",
     "text": [
      "0.2770286972297583\n"
     ]
    }
   ],
   "source": [
    "def calculate_government_latency(parameters):\n",
    "    alpha = parameters['alpha']\n",
    "    N = parameters['N']\n",
    "    beta = parameters['beta']\n",
    "    H = parameters['H']\n",
    "    gamma = parameters['gamma']\n",
    "    return alpha * (N**beta) * (H**gamma)\n",
    "L = calculate_government_latency(parameters)\n",
    "print(L)"
   ]
  },
  {
   "cell_type": "markdown",
   "id": "a0f33350-0bd8-4c6c-8ab5-e6499b779d84",
   "metadata": {},
   "source": [
    "How much does this will exertion cost our current government?"
   ]
  },
  {
   "cell_type": "code",
   "execution_count": 9,
   "id": "3166ec95-f8ae-479f-87ce-3b173a7508bb",
   "metadata": {},
   "outputs": [
    {
     "name": "stdout",
     "output_type": "stream",
     "text": [
      "0.031271594192758094\n",
      "3.1271594192758094\n",
      "3.404188116505568\n"
     ]
    }
   ],
   "source": [
    "def calculate_enforcement_cost(parameters):\n",
    "    eps = parameters['epsilon']\n",
    "    k = parameters['k']\n",
    "    m = parameters['m']\n",
    "    delta = parameters['delta']\n",
    "    N = parameters['N']\n",
    "    zeta = parameters['zeta']\n",
    "    \n",
    "    return eps * ((k * m)**delta) * (N**zeta)\n",
    "E_C = calculate_enforcement_cost(parameters)\n",
    "\n",
    "# that was cost of enforcement per enforceable interaction\n",
    "# cost of enforcement C_E is different\n",
    "C_E = E_C * I_E\n",
    "\n",
    "# now consider latency costs as well\n",
    "\n",
    "C_total = C_E + L\n",
    "\n",
    "print(E_C)\n",
    "print(C_E)\n",
    "print(C_total)"
   ]
  },
  {
   "cell_type": "markdown",
   "id": "ddc557a2-36a0-4934-b7fb-d42cc64bcf26",
   "metadata": {},
   "source": [
    "Now let's see how wealthy this population is"
   ]
  },
  {
   "cell_type": "code",
   "execution_count": 17,
   "id": "99743d1c-e396-4f38-a147-4aaead81eb1e",
   "metadata": {},
   "outputs": [
    {
     "name": "stdout",
     "output_type": "stream",
     "text": [
      "1523.455047513946\n"
     ]
    }
   ],
   "source": [
    "def draw_population_wealth(parameters):\n",
    "    mu = parameters['mu_0']\n",
    "    sigma = parameters['sigma']\n",
    "    N = parameters['N']\n",
    "    wealth = np.random.lognormal(mean = mu, sigma = sigma, size = N)\n",
    "    return wealth\n",
    "\n",
    "wealth = draw_population_wealth(parameters)\n",
    "print(sum(wealth))"
   ]
  },
  {
   "cell_type": "markdown",
   "id": "9273d697-8928-43c6-9a2f-004135d61d02",
   "metadata": {},
   "source": [
    "There are the wealth values. In order for the government to pay to enforce interactions, it must levy a tax."
   ]
  },
  {
   "cell_type": "code",
   "execution_count": 18,
   "id": "b2b9f1c2-b9a5-4a3f-902f-e55ccf1ee1fa",
   "metadata": {},
   "outputs": [
    {
     "name": "stdout",
     "output_type": "stream",
     "text": [
      "152.3455047513946\n"
     ]
    }
   ],
   "source": [
    "def levy_tax(parameters, wealth):\n",
    "    revenue = wealth * parameters['tau']\n",
    "    return sum(revenue)\n",
    "\n",
    "R = levy_tax(parameters, wealth)\n",
    "print(R)"
   ]
  },
  {
   "cell_type": "code",
   "execution_count": 19,
   "id": "1308ec7e-ae05-4bbd-9a8f-e04df9c32855",
   "metadata": {},
   "outputs": [
    {
     "name": "stdout",
     "output_type": "stream",
     "text": [
      "148.94131663488903\n"
     ]
    }
   ],
   "source": [
    "surplus = R - C_total\n",
    "print(surplus)"
   ]
  },
  {
   "cell_type": "markdown",
   "id": "311aaf2a-2b51-48bf-b829-2b2916d8b8af",
   "metadata": {},
   "source": [
    "What do we do with our surplus?\n",
    "\n",
    "It can be invested in infrastructure, increasing $\\mu$ for potential wealth.\n",
    "\n",
    "Invest in government, increasing $G$ and $H$. Perhaps introduce $T$ technology to improve efficiency and sensitivity scores that haven't been introduced yet.\n",
    "\n",
    "Increase authority level by adjusting $F$ or decrease enforcement cost $\\epsilon$\n",
    "\n",
    "Accrue reserve funds for future iterations\n",
    "\n",
    "Corruption and waste"
   ]
  },
  {
   "cell_type": "code",
   "execution_count": 20,
   "id": "86697dc1-4e55-4248-943b-5c89e3123dc9",
   "metadata": {},
   "outputs": [],
   "source": [
    "mu = parameters['mu_0']\n",
    "def redistribute_wealth(parameters, mu, B, L):\n",
    "    mu = mu + parameters['lambda'] * np.log(1 + B) - (parameters['psi'] * L)\n",
    "    return mu\n",
    "mu = redistribute_wealth(parameters, mu, B, L)"
   ]
  },
  {
   "cell_type": "code",
   "execution_count": 21,
   "id": "dd7f3ab0-b131-48b6-a02a-e05230862f07",
   "metadata": {},
   "outputs": [
    {
     "data": {
      "text/plain": [
       "1.8071882107121549"
      ]
     },
     "execution_count": 21,
     "metadata": {},
     "output_type": "execute_result"
    }
   ],
   "source": [
    "mu"
   ]
  },
  {
   "cell_type": "code",
   "execution_count": 15,
   "id": "2252d6fc-5ae7-4e44-95d3-5f62924128e2",
   "metadata": {},
   "outputs": [],
   "source": [
    "def reduce_enforcement_cost(parameters, surplus):\n",
    "    parameters['epsilon'] = max(1e-5, parameters['epsilon'] * np.exp(-0.001 * surplus))\n",
    "    parameters['delta'] = max(1.0, parameters['delta'] - 0.005 * np.log1p(surplus))\n",
    "    parameters['zeta'] = max(0.1, parameters['zeta'] - 0.005 * np.log1p(surplus))\n",
    "    return parameters\n"
   ]
  },
  {
   "cell_type": "markdown",
   "id": "38ad6b32-ee4f-41c9-84ae-7ae287e0fdc8",
   "metadata": {},
   "source": [
    "Now let's grow our government $G$ to enable higher capacity of enforcement for a growing population"
   ]
  },
  {
   "cell_type": "markdown",
   "id": "bec5af6d-7dfa-4fd2-948e-afe961a02030",
   "metadata": {
    "tags": []
   },
   "source": [
    "Recall the capacity to process interactions is \n",
    "\n",
    "$$ B = \\eta G H$$\n",
    "\n",
    "Now assume a per-unit cost to increase capacity $C_B$\n",
    "\n",
    "$$C_\\text{growth} = C_B \\Delta{B} = C_B \\eta \\Delta{\\left(G H\\right)}$$\n",
    "\n",
    "$H$ is a function of $G$, so we can find $\\Delta B$ as \n",
    "\n",
    "$$\n",
    "\\begin{align*}\n",
    "\\Delta{B} = \\Delta{GH} = \\frac{d}{DG}\\left[G \\left(H_0 + \\rho G^{\\theta}\\right)\\right] &= \\left(H_0 + \\rho G^{\\theta}\\right) + G \\cdot \\rho \\cdot \\theta G^{\\theta - 1} \\\\\n",
    "              &= H_0 + \\rho G^{\\theta} + \\rho \\theta G^{\\theta}\n",
    "\\end{align*}\n",
    "$$\n",
    "\n",
    "Then the cost to increase government becomes\n",
    "\n",
    "$$C_\\text{growth}\\left(G\\right) = C_B \\left(H_0 + \\rho G^{\\theta} + \\rho \\theta G^{\\theta}\\right)$$\n",
    "\n",
    "where $H_0$ represents the current state of hierarchical bureaucratic depth, and $G$ represents the number of governing agents to add."
   ]
  },
  {
   "cell_type": "code",
   "execution_count": null,
   "id": "7efb7be4-ebbb-46ce-be2a-a2d016bd232c",
   "metadata": {},
   "outputs": [],
   "source": []
  },
  {
   "cell_type": "code",
   "execution_count": null,
   "id": "6ab409db-0865-4a04-bffd-1b237a678cc2",
   "metadata": {},
   "outputs": [],
   "source": []
  },
  {
   "cell_type": "code",
   "execution_count": null,
   "id": "51ce1bc5-915c-4269-a1b7-43fd69ee2082",
   "metadata": {},
   "outputs": [],
   "source": []
  },
  {
   "cell_type": "code",
   "execution_count": null,
   "id": "0b748e18-4140-43f1-8200-1570e5f5d439",
   "metadata": {},
   "outputs": [],
   "source": []
  },
  {
   "cell_type": "code",
   "execution_count": null,
   "id": "b1795d6c-f0ad-4a72-bc29-e241c610eb41",
   "metadata": {},
   "outputs": [],
   "source": []
  },
  {
   "cell_type": "code",
   "execution_count": 16,
   "id": "0d84376a-8d45-4ca3-8b28-2da9859df699",
   "metadata": {},
   "outputs": [],
   "source": [
    "def calculate_H(parameters):\n",
    "    H_0 = parameters['H_0']\n",
    "    rho = parameters['rho']\n",
    "    G = parameters['G']\n",
    "    theta = parameters['theta']\n",
    "    H = H_0 + rho * (G**theta)\n",
    "    parameters['H'] = H\n",
    "    return H\n",
    "\n",
    "def calculate_expansion_cost(parameters):\n",
    "    kappa_g = parameters['kappa_g']\n",
    "    kappa_h = parameters['kappa_h']\n",
    "    \n",
    "    G = parameters['G']\n",
    "    H = parameters['H']\n",
    "    \n",
    "    phi = parameters['phi']\n",
    "    \n",
    "    cost = (kappa_g * (G**phi)) + (kappa_h * (H*phi))\n",
    "    \n",
    "\n",
    "def expand_government(parameters, surplus):\n",
    "    \n",
    "    eta = parameters['eta']\n",
    "    \n",
    "    G = parameters['G']\n",
    "    H = parameters['H']\n",
    "    \n",
    "    current_capacity = eta * G * H\n",
    "    # cost "
   ]
  },
  {
   "cell_type": "code",
   "execution_count": null,
   "id": "c7dd0190-b8b8-4a8c-99f1-bc4e38d66594",
   "metadata": {},
   "outputs": [],
   "source": []
  }
 ],
 "metadata": {
  "kernelspec": {
   "display_name": "Python 3 (ipykernel)",
   "language": "python",
   "name": "python3"
  },
  "language_info": {
   "codemirror_mode": {
    "name": "ipython",
    "version": 3
   },
   "file_extension": ".py",
   "mimetype": "text/x-python",
   "name": "python",
   "nbconvert_exporter": "python",
   "pygments_lexer": "ipython3",
   "version": "3.7.6"
  }
 },
 "nbformat": 4,
 "nbformat_minor": 5
}
