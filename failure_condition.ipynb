{
 "cells": [
  {
   "cell_type": "markdown",
   "id": "4a401ba9-2a2a-4446-a1f3-cb3107a5e137",
   "metadata": {},
   "source": [
    "Okay, so we have a stable model that is able to grow unimpeded. Now we have to put some constraints on it. Define probability of failure $P_f$ as\n",
    "\n",
    "$$ P_f = f(C, L, D, M) $$\n",
    "\n",
    "where $C$ is the cost of governance and $L$ is government latency. Introduce divergence from preference $D$ and motivation to comply $M$.\n",
    "\n",
    "Let divergence $D$ be a function of $H$. As populations evolve, larger systems of authority move slower to align.\n",
    "\n",
    "$$D = D_0 + \\lambda H^\\gamma$$\n",
    "\n",
    "\n",
    "First, let's revisit $C$. Until now, we have been considering the cost of enforcement $C_E$ plus government latency $L$ to be the total cost of government. This is just actually the cost of surveillance. Monitoring the interactions of the population. Let $C_S$ be the cost of surveillance, formerly $C_E$, and cost of enforcemnet $C_E$ be written as\n",
    "\n",
    "$$ C_E = \\phi \\left[N_\\text{violators} + \\sum_{i = 1}^{N} \\left(1 - c_i\\right) + D N\\right] $$\n",
    "\n",
    "where $\\phi$ is a base cost, $N_{\\text{violators}}$ represents the crime rate, $c_i$ represents an individuals motivation to comply, and $D$ represnts social divergence."
   ]
  },
  {
   "cell_type": "code",
   "execution_count": null,
   "id": "6a6a0880-16e6-43fe-abb1-6c868d79301f",
   "metadata": {},
   "outputs": [],
   "source": []
  }
 ],
 "metadata": {
  "kernelspec": {
   "display_name": "Python 3 (ipykernel)",
   "language": "python",
   "name": "python3"
  },
  "language_info": {
   "codemirror_mode": {
    "name": "ipython",
    "version": 3
   },
   "file_extension": ".py",
   "mimetype": "text/x-python",
   "name": "python",
   "nbconvert_exporter": "python",
   "pygments_lexer": "ipython3",
   "version": "3.7.6"
  }
 },
 "nbformat": 4,
 "nbformat_minor": 5
}
